{
  "nbformat": 4,
  "nbformat_minor": 0,
  "metadata": {
    "colab": {
      "name": "Untitled1.ipynb",
      "provenance": [],
      "collapsed_sections": [],
      "authorship_tag": "ABX9TyO+M1ytLBCuQzxDwPzze5W3",
      "include_colab_link": true
    },
    "kernelspec": {
      "name": "python3",
      "display_name": "Python 3"
    },
    "language_info": {
      "name": "python"
    }
  },
  "cells": [
    {
      "cell_type": "markdown",
      "metadata": {
        "id": "view-in-github",
        "colab_type": "text"
      },
      "source": [
        "<a href=\"https://colab.research.google.com/github/MaximP1henka/python_git_google.colab/blob/master/Untitled1.ipynb\" target=\"_parent\"><img src=\"https://colab.research.google.com/assets/colab-badge.svg\" alt=\"Open In Colab\"/></a>"
      ]
    },
    {
      "cell_type": "code",
      "metadata": {
        "colab": {
          "base_uri": "https://localhost:8080/"
        },
        "id": "lKC3_dWomNWF",
        "outputId": "00d6ad50-4356-4498-aa8e-105581f2e59d"
      },
      "source": [
        "print(\"привет мир\")"
      ],
      "execution_count": null,
      "outputs": [
        {
          "output_type": "stream",
          "text": [
            "привет мир\n"
          ],
          "name": "stdout"
        }
      ]
    },
    {
      "cell_type": "code",
      "metadata": {
        "id": "9HrVNdqQoMAn",
        "outputId": "def825e7-eaa6-4480-e6bd-ddeb68c96ded",
        "colab": {
          "base_uri": "https://localhost:8080/"
        }
      },
      "source": [
        "def gg(x):\n",
        "    print(str(x))\n",
        " \n",
        "gg(\"fga\")"
      ],
      "execution_count": 1,
      "outputs": [
        {
          "output_type": "stream",
          "text": [
            "fga\n"
          ],
          "name": "stdout"
        }
      ]
    }
  ]
}